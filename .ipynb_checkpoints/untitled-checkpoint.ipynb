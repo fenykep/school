{
 "cells": [
  {
   "cell_type": "code",
   "execution_count": 12,
   "metadata": {},
   "outputs": [
    {
     "name": "stdout",
     "output_type": "stream",
     "text": [
      "3.14159265359\n",
      "What do you want to calculate?s\n",
      "Mennyi a sugár?3\n",
      "113.097335529\n"
     ]
    }
   ],
   "source": [
    "import math\n",
    "print(math.pi)\n",
    "\n",
    "def cube():\n",
    "    a=input(\"How big side?\")\n",
    "    A=6*a**2\n",
    "    print(A)\n",
    "    \n",
    "def rect():\n",
    "    a=input(\"How much A?\")\n",
    "    b=input(\"How many B?\")\n",
    "    A=a*b\n",
    "    print(A)\n",
    "    \n",
    "def sphere():\n",
    "    r=input(\"What is radius?\")\n",
    "    A=4*math.pi*r**2\n",
    "    print(A)\n",
    "    \n",
    "def circle():\n",
    "    r=input(\"What is radius?\")\n",
    "    A=math.pi*r**2\n",
    "    print(A)\n",
    "\n",
    "select=raw_input(\"What do you want to calculate?\")\n",
    "#[cube(k),circle(c),sphere(s),rectangle(r)]\n",
    "if(select=='k'):\n",
    "    cube()\n",
    "elif(select=='c'):\n",
    "    circle()\n",
    "elif(select=='s'):\n",
    "    sphere()\n",
    "elif(select=='r'):\n",
    "    rect()\n",
    "else:\n",
    "    print(\"Sorry, no such thing yet.\")"
   ]
  },
  {
   "cell_type": "code",
   "execution_count": null,
   "metadata": {},
   "outputs": [],
   "source": []
  },
  {
   "cell_type": "code",
   "execution_count": null,
   "metadata": {},
   "outputs": [],
   "source": []
  }
 ],
 "metadata": {
  "kernelspec": {
   "display_name": "Python 2",
   "language": "python",
   "name": "python2"
  }
 },
 "nbformat": 4,
 "nbformat_minor": 2
}
